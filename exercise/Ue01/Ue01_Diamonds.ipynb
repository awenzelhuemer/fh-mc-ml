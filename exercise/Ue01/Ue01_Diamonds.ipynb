{
 "cells": [
  {
   "cell_type": "code",
   "execution_count": 35,
   "outputs": [
    {
     "data": {
      "text/plain": "              carat         depth         table         price             x  \\\ncount  53940.000000  53940.000000  53940.000000  53940.000000  53940.000000   \nmean       0.797940     61.749405     57.457184   3932.799722      5.731157   \nstd        0.474011      1.432621      2.234491   3989.439738      1.121761   \nmin        0.200000     43.000000     43.000000    326.000000      0.000000   \n25%        0.400000     61.000000     56.000000    950.000000      4.710000   \n50%        0.700000     61.800000     57.000000   2401.000000      5.700000   \n75%        1.040000     62.500000     59.000000   5324.250000      6.540000   \nmax        5.010000     79.000000     95.000000  18823.000000     10.740000   \n\n                  y             z  \ncount  53940.000000  53940.000000  \nmean       5.734526      3.538734  \nstd        1.142135      0.705699  \nmin        0.000000      0.000000  \n25%        4.720000      2.910000  \n50%        5.710000      3.530000  \n75%        6.540000      4.040000  \nmax       58.900000     31.800000  ",
      "text/html": "<div>\n<style scoped>\n    .dataframe tbody tr th:only-of-type {\n        vertical-align: middle;\n    }\n\n    .dataframe tbody tr th {\n        vertical-align: top;\n    }\n\n    .dataframe thead th {\n        text-align: right;\n    }\n</style>\n<table border=\"1\" class=\"dataframe\">\n  <thead>\n    <tr style=\"text-align: right;\">\n      <th></th>\n      <th>carat</th>\n      <th>depth</th>\n      <th>table</th>\n      <th>price</th>\n      <th>x</th>\n      <th>y</th>\n      <th>z</th>\n    </tr>\n  </thead>\n  <tbody>\n    <tr>\n      <th>count</th>\n      <td>53940.000000</td>\n      <td>53940.000000</td>\n      <td>53940.000000</td>\n      <td>53940.000000</td>\n      <td>53940.000000</td>\n      <td>53940.000000</td>\n      <td>53940.000000</td>\n    </tr>\n    <tr>\n      <th>mean</th>\n      <td>0.797940</td>\n      <td>61.749405</td>\n      <td>57.457184</td>\n      <td>3932.799722</td>\n      <td>5.731157</td>\n      <td>5.734526</td>\n      <td>3.538734</td>\n    </tr>\n    <tr>\n      <th>std</th>\n      <td>0.474011</td>\n      <td>1.432621</td>\n      <td>2.234491</td>\n      <td>3989.439738</td>\n      <td>1.121761</td>\n      <td>1.142135</td>\n      <td>0.705699</td>\n    </tr>\n    <tr>\n      <th>min</th>\n      <td>0.200000</td>\n      <td>43.000000</td>\n      <td>43.000000</td>\n      <td>326.000000</td>\n      <td>0.000000</td>\n      <td>0.000000</td>\n      <td>0.000000</td>\n    </tr>\n    <tr>\n      <th>25%</th>\n      <td>0.400000</td>\n      <td>61.000000</td>\n      <td>56.000000</td>\n      <td>950.000000</td>\n      <td>4.710000</td>\n      <td>4.720000</td>\n      <td>2.910000</td>\n    </tr>\n    <tr>\n      <th>50%</th>\n      <td>0.700000</td>\n      <td>61.800000</td>\n      <td>57.000000</td>\n      <td>2401.000000</td>\n      <td>5.700000</td>\n      <td>5.710000</td>\n      <td>3.530000</td>\n    </tr>\n    <tr>\n      <th>75%</th>\n      <td>1.040000</td>\n      <td>62.500000</td>\n      <td>59.000000</td>\n      <td>5324.250000</td>\n      <td>6.540000</td>\n      <td>6.540000</td>\n      <td>4.040000</td>\n    </tr>\n    <tr>\n      <th>max</th>\n      <td>5.010000</td>\n      <td>79.000000</td>\n      <td>95.000000</td>\n      <td>18823.000000</td>\n      <td>10.740000</td>\n      <td>58.900000</td>\n      <td>31.800000</td>\n    </tr>\n  </tbody>\n</table>\n</div>"
     },
     "execution_count": 35,
     "metadata": {},
     "output_type": "execute_result"
    }
   ],
   "source": [
    "import pandas as pd\n",
    "import numpy as np\n",
    "import matplotlib\n",
    "import scipy\n",
    "\n",
    "df = pd.read_csv('diamonds.csv')\n",
    "df.describe()"
   ],
   "metadata": {
    "collapsed": false
   }
  },
  {
   "cell_type": "markdown",
   "source": [
    "# Implementation Part 1 (50%): Diamond Prices"
   ],
   "metadata": {
    "collapsed": false
   }
  },
  {
   "cell_type": "markdown",
   "source": [
    "## 1. Give an overview of the dataset structure by answering those questions:"
   ],
   "metadata": {
    "collapsed": false
   },
   "outputs": []
  },
  {
   "cell_type": "markdown",
   "source": [
    "### How many samples and features are in the dataset?"
   ],
   "metadata": {
    "collapsed": false
   },
   "outputs": []
  },
  {
   "cell_type": "code",
   "execution_count": 7,
   "outputs": [
    {
     "name": "stdout",
     "output_type": "stream",
     "text": [
      "Samples: \n"
     ]
    },
    {
     "data": {
      "text/plain": "53940"
     },
     "execution_count": 7,
     "metadata": {},
     "output_type": "execute_result"
    }
   ],
   "source": [
    "print('Samples: ')\n",
    "len(df)"
   ],
   "metadata": {
    "collapsed": false
   }
  },
  {
   "cell_type": "code",
   "execution_count": 8,
   "outputs": [
    {
     "name": "stdout",
     "output_type": "stream",
     "text": [
      "Features: \n"
     ]
    },
    {
     "data": {
      "text/plain": "10"
     },
     "execution_count": 8,
     "metadata": {},
     "output_type": "execute_result"
    }
   ],
   "source": [
    "print('Features: ')\n",
    "len(df.columns)"
   ],
   "metadata": {
    "collapsed": false
   }
  },
  {
   "cell_type": "markdown",
   "source": [
    "### What are the feature data types?"
   ],
   "metadata": {
    "collapsed": false
   },
   "outputs": []
  },
  {
   "cell_type": "code",
   "execution_count": 9,
   "outputs": [
    {
     "data": {
      "text/plain": "carat      float64\ncut         object\ncolor       object\nclarity     object\ndepth      float64\ntable      float64\nprice        int64\nx          float64\ny          float64\nz          float64\ndtype: object"
     },
     "execution_count": 9,
     "metadata": {},
     "output_type": "execute_result"
    }
   ],
   "source": [
    "df.dtypes"
   ],
   "metadata": {
    "collapsed": false
   }
  },
  {
   "cell_type": "markdown",
   "source": [
    "### Are diamonds balanced across color, cut and clarity? (Hint: roughly 1:1 means balanced, e.g. 1:2 is a “1:2 imbalance”)"
   ],
   "metadata": {
    "collapsed": false
   },
   "outputs": []
  },
  {
   "cell_type": "code",
   "execution_count": 25,
   "outputs": [
    {
     "data": {
      "text/plain": "{'D': 0.126,\n 'E': 0.182,\n 'F': 0.177,\n 'G': 0.209,\n 'H': 0.154,\n 'I': 0.101,\n 'J': 0.052}"
     },
     "execution_count": 25,
     "metadata": {},
     "output_type": "execute_result"
    }
   ],
   "source": [
    "{k:round(len(v)/len(df), 3) for k,v in df.groupby('color')}"
   ],
   "metadata": {
    "collapsed": false
   }
  },
  {
   "cell_type": "code",
   "execution_count": 24,
   "outputs": [
    {
     "data": {
      "text/plain": "{'Fair': 0.03,\n 'Good': 0.091,\n 'Ideal': 0.4,\n 'Premium': 0.256,\n 'Very Good': 0.224}"
     },
     "execution_count": 24,
     "metadata": {},
     "output_type": "execute_result"
    }
   ],
   "source": [
    "{k:round(len(v)/len(df), 3) for k,v in df.groupby('cut')}"
   ],
   "metadata": {
    "collapsed": false
   }
  },
  {
   "cell_type": "code",
   "execution_count": 23,
   "outputs": [
    {
     "data": {
      "text/plain": "{'I1': 0.014,\n 'IF': 0.033,\n 'SI1': 0.242,\n 'SI2': 0.17,\n 'VS1': 0.151,\n 'VS2': 0.227,\n 'VVS1': 0.068,\n 'VVS2': 0.094}"
     },
     "execution_count": 23,
     "metadata": {},
     "output_type": "execute_result"
    }
   ],
   "source": [
    "{k:round(len(v)/len(df), 3) for k,v in df.groupby('clarity')}"
   ],
   "metadata": {
    "collapsed": false
   }
  },
  {
   "cell_type": "markdown",
   "source": [
    "## 2. Visualize diamond prices using a histogram, boxplot and density plot. Answer this question:"
   ],
   "metadata": {
    "collapsed": false
   },
   "outputs": []
  },
  {
   "cell_type": "code",
   "execution_count": 31,
   "outputs": [
    {
     "data": {
      "text/plain": "array([[<AxesSubplot: title={'center': 'price'}>]], dtype=object)"
     },
     "execution_count": 31,
     "metadata": {},
     "output_type": "execute_result"
    },
    {
     "data": {
      "text/plain": "<Figure size 640x480 with 1 Axes>",
      "image/png": "[encoded data removed]"
     },
     "metadata": {},
     "output_type": "display_data"
    }
   ],
   "source": [
    "df.hist('price')"
   ],
   "metadata": {
    "collapsed": false
   }
  },
  {
   "cell_type": "code",
   "execution_count": 42,
   "outputs": [
    {
     "data": {
      "text/plain": "<AxesSubplot: >"
     },
     "execution_count": 42,
     "metadata": {},
     "output_type": "execute_result"
    },
    {
     "data": {
      "text/plain": "<Figure size 640x480 with 1 Axes>",
      "image/png": "[encoded data removed]"
     },
     "metadata": {},
     "output_type": "display_data"
    }
   ],
   "source": [
    "df.boxplot('price')"
   ],
   "metadata": {
    "collapsed": false
   }
  },
  {
   "cell_type": "code",
   "execution_count": 40,
   "outputs": [
    {
     "data": {
      "text/plain": "<AxesSubplot: ylabel='Density'>"
     },
     "execution_count": 40,
     "metadata": {},
     "output_type": "execute_result"
    },
    {
     "data": {
      "text/plain": "<Figure size 640x480 with 1 Axes>",
      "image/png": "[encoded data removed]"
     },
     "metadata": {},
     "output_type": "display_data"
    }
   ],
   "source": [
    "df['price'].plot.density()"
   ],
   "metadata": {
    "collapsed": false
   }
  },
  {
   "cell_type": "markdown",
   "source": [
    "• Is there trend visible in those plots? If yes, which is it and in which\n",
    "plots can you see it?"
   ],
   "metadata": {
    "collapsed": false
   },
   "outputs": []
  },
  {
   "cell_type": "markdown",
   "source": [
    "Histo plot: Most diamonds cost between 0 to 2500\n",
    "Box plot: Many outliers higher than 12000, mean is very good visible here and for the histo plot.\n",
    "Density plot: Most diamonds in the list cost between 0 to 2500, similar to histo plot."
   ],
   "metadata": {
    "collapsed": false
   }
  },
  {
   "cell_type": "markdown",
   "source": [
    "## 3. Calculate and state the mean, median, standard deviation, median absolute deviation (MAD), 1st and 3rd quartile (Q1 and Q3), and inner quartile range of the diamond price.\n",
    "• If you are not familiar with those functions: use Google, Wikipedia,\n",
    "etc.\n",
    "• Required commands are all in the provided script."
   ],
   "metadata": {
    "collapsed": false
   },
   "outputs": []
  },
  {
   "cell_type": "code",
   "execution_count": 45,
   "outputs": [
    {
     "name": "stdout",
     "output_type": "stream",
     "text": [
      "Mean: \n"
     ]
    },
    {
     "data": {
      "text/plain": "3932.799721913237"
     },
     "execution_count": 45,
     "metadata": {},
     "output_type": "execute_result"
    }
   ],
   "source": [
    "print('Mean: ')\n",
    "df['price'].mean(axis=0)"
   ],
   "metadata": {
    "collapsed": false
   }
  },
  {
   "cell_type": "code",
   "execution_count": null,
   "outputs": [],
   "source": [
    "print('Median: ')\n",
    "df['price'].median(axis=0)"
   ],
   "metadata": {
    "collapsed": false
   }
  },
  {
   "cell_type": "code",
   "execution_count": 52,
   "outputs": [
    {
     "name": "stdout",
     "output_type": "stream",
     "text": [
      "STD: \n"
     ]
    },
    {
     "data": {
      "text/plain": "3989.439738146379"
     },
     "execution_count": 52,
     "metadata": {},
     "output_type": "execute_result"
    }
   ],
   "source": [
    "print('STD: ')\n",
    "df['price'].std(axis=0)"
   ],
   "metadata": {
    "collapsed": false
   }
  },
  {
   "cell_type": "code",
   "execution_count": 58,
   "outputs": [
    {
     "name": "stdout",
     "output_type": "stream",
     "text": [
      "MAD: \n",
      "3031.603220851001\n",
      "3031.603220851001\n"
     ]
    },
    {
     "name": "stderr",
     "output_type": "stream",
     "text": [
      "C:\\Users\\Andi\\AppData\\Local\\Temp\\ipykernel_8040\\3450711874.py:2: FutureWarning: The 'mad' method is deprecated and will be removed in a future version. To compute the same result, you may do `(df - df.mean()).abs().mean()`.\n",
      "  print(df['price'].mad(axis=0))\n"
     ]
    }
   ],
   "source": [
    "print('MAD: ')\n",
    "# Mad function is deprecated\n",
    "print((df['price'] - df['price'].mean()).abs().mean())"
   ],
   "metadata": {
    "collapsed": false
   }
  },
  {
   "cell_type": "markdown",
   "source": [
    "4. Plot the diamond price against the carat values as a scatterplot. Answer\n",
    "this question:\n",
    "• Is there a trend visible in the plot? If yes, which is it?\n",
    "1\n",
    "• Hint: plotting many samples will be slow. Changing the plot symbol\n",
    "to '.' will cause a speedup.\n",
    "5. Analyze the correlation between diamond price and diamond x, y, and z\n",
    "dimensions. Answer those questions:\n",
    "• Create pairwise plots for these features.\n",
    "• Is there a trend visible between x, y, and z? If yes, which is it?\n",
    "• Is there a trend visible between the dimensions and the price? If yes,\n",
    "which is it?\n",
    "• Hint: if you don’t know what a linear relation is (Google it!):\n",
    "– Linear correlation: feature A low –> feature B low, and feature\n",
    "A high –> feature B high.\n",
    "– (Inverse) linear correlation is also a linear correlation: feature\n",
    "A low –> feature B high, and feature A high –> feature B low:\n",
    "inverse linear correlation. Usually also just called linear correlation.\n",
    "– When plotting feature A against feature B and their points form\n",
    "a “straight line”, then it’s a linear relationship between A and B\n",
    "= linear correlation.\n",
    "6. Analyze diamond prices per diamond color.\n",
    "• Create boxplots showing diamond price boxes for each diamond color\n",
    "(all boxes should be in one figure).\n",
    "• Create densityplots showing diamond prices for each diamond color\n",
    "(all densities should be in one figure).\n",
    "• Answer this question: is there a trend visible? If yes, which one?\n",
    "7. Use vectorized commands (= no loops!) to answer these questions:\n",
    "• How many diamonds have a price above 9500?\n",
    "• How many diamonds have a price above 9500 and have color “D”?\n",
    "• What is the mean and std of the price of all color “D” diamonds with\n",
    "cut “Fair”?\n",
    "• What is the median and mad of the price of all color “J” diamonds\n",
    "with cut “Ideal”?\n",
    "• Create two copies of the dataframe that contains only the price and\n",
    "carat feature. Apply a log with base 10 to both features in one of\n",
    "those dataframes, and square (𝑥\n",
    "′ = 𝑥2\n",
    ") the features in the other\n",
    "dataframe. What is the mean and std of the transformed features in\n",
    "both dataframes?"
   ],
   "metadata": {
    "collapsed": false
   }
  },
  {
   "cell_type": "code",
   "execution_count": null,
   "outputs": [],
   "source": [],
   "metadata": {
    "collapsed": false
   }
  }
 ],
 "metadata": {
  "kernelspec": {
   "display_name": "Python 3",
   "language": "python",
   "name": "python3"
  },
  "language_info": {
   "codemirror_mode": {
    "name": "ipython",
    "version": 2
   },
   "file_extension": ".py",
   "mimetype": "text/x-python",
   "name": "python",
   "nbconvert_exporter": "python",
   "pygments_lexer": "ipython2",
   "version": "2.7.6"
  }
 },
 "nbformat": 4,
 "nbformat_minor": 0
}
